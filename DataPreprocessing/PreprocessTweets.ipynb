{
 "cells": [
  {
   "cell_type": "markdown",
   "metadata": {},
   "source": [
    "# Script for preprocessing tweets for bi-LSTM training #\n",
    "\n",
    "**Author:** [Andrew Larkin](https://www.linkedin.com/in/andrew-larkin-525ba3b5/) <br>\n",
    "**Affiliation:** [Oregon State University, College of Public Health and Human Sciences](https://health.oregonstate.edu/) <br>\n",
    "**Date Created:** October 14th, 2018 <br>\n",
    "\n",
    "**Summary** <br>\n",
    "This script contains functions used to preprocess tweets and corresponding metadata as features for deep learning model input preprocessing includes:\n",
    "\n",
    "### TODO:\n",
    "[ ] add link to Stanford word vector website\n",
    "\n",
    "- tokenization\n",
    "- partitioning multiple word hashtags (e.g. #lastchildinthewoods) into multiple words and adjusting hashtag indicators and sentence length metadata\n",
    "- calculating word frequency\n",
    "- encoding words to 300 length word vectors created by Stanford \n",
    "- creating trainable, randomly initizlied word encodings for unknown and pad token words\n",
    "- replace uknown words with an UNKNOWN tag\n",
    "- fill the end sentences with empty tag so all tweet vectors are the same length\n",
    "\n",
    "\n",
    "**Note**: text was already partially processed at the time of record insertion into the SQL database.  Input text has already had emojis replaced with word descriptions, hashtag and emoji indicators created, and hyperlinks removed.  "
   ]
  },
  {
   "cell_type": "markdown",
   "metadata": {},
   "source": [
    "### Setup ###\n",
    "\n",
    "** Import libraries, define model and dataset parameters, and set filepaths **"
   ]
  },
  {
   "cell_type": "code",
   "execution_count": 124,
   "metadata": {},
   "outputs": [],
   "source": [
    "# libraries\n",
    "import zipfile\n",
    "import numpy as np\n",
    "#import tensorflow as tf\n",
    "import pandas as ps\n",
    "import re, string\n",
    "from IPython.display import Image\n",
    "from IPython.core.display import HTML "
   ]
  },
  {
   "cell_type": "code",
   "execution_count": 17,
   "metadata": {},
   "outputs": [],
   "source": [
    "# filepaths\n",
    "parentFolder =  \"C:/Users/larkinan/Desktop/DBTraining/\""
   ]
  },
  {
   "cell_type": "code",
   "execution_count": 94,
   "metadata": {},
   "outputs": [],
   "source": [
    "# hyperparameters and constants for the deep learning model.  \n",
    "# While only the word_vec_dim is needed for this script, \n",
    "# the entire dictionary is copied here to facilitate ease of search and comparison.\n",
    "modelParams = {\n",
    "    'word_vec_dim':300, # dimension of each word vector\n",
    "    'mini_batch_size':256, \n",
    "    'learning_rate':0.01,\n",
    "    'momentum':0.9,\n",
    "    'num_outcomes':1, # whether testing for just 1 or multiple outcomes,\n",
    "    'hidden_layer size':32,\n",
    "    'num_epochs':5000,\n",
    "    'hidden_layer_activation':'tanh'\n",
    "}\n",
    "\n",
    "twitterCSVParams = {\n",
    "    'filepath':parentFolder + \"trainingDatav8.csv\",\n",
    "    'classifyFilepath':parentFolder + \"allScores__Oct14_18.csv\",\n",
    "    'text':'clean_text',  # whether to use cleaned or raw (i.e. with emojis, hashtags, etc) twitter text\n",
    "    'nature_ind':'nature',\n",
    "    'safety_ind':'safety',\n",
    "    'beauty_ind':'beauty',\n",
    "    'exercise_ind':'exercise',\n",
    "    'social_ind':'social',\n",
    "    'stress_ind':'stress',\n",
    "    'air_ind':'air',\n",
    "    'hashtag_ind':'hash_ind',\n",
    "    'emoticon_ind':'emot_ind' \n",
    "}\n",
    "\n",
    "wordVecParams = {\n",
    "    'zipFilename':parentFolder + \"glove.840B.300d.zip\",\n",
    "    'txtFilename':\"glove.840B.300d.txt\"\n",
    "}\n",
    "\n",
    "unknownWordSubs = { # identified using the 'countUnknownWords' function\n",
    "    \"'04\":'4',\n",
    "    \"'10\":'10',\n",
    "    \"'12\":'12',\n",
    "    \"'14\":'14',\n",
    "    \"'15\":'15',\n",
    "    \"'16\":'16',\n",
    "    \"'17\":'17',\n",
    "    \"'18\":'18',\n",
    "    \"'72\":'72',\n",
    "    \"'93\":'93',\n",
    "    \"'96\":'96',\n",
    "    \"'cause\":'because',\n",
    "    \"'ll\":'will',\n",
    "    \"'m\":'am',\n",
    "    \"'re\":'are',\n",
    "    \"'s\":'is',\n",
    "    \"'ve\":'have',\n",
    "    \"'Ve\":'have',\n",
    "    \"'em\":'them'\n",
    "}"
   ]
  },
  {
   "cell_type": "markdown",
   "metadata": {},
   "source": [
    "### convert binary variable to two binary variables ###\n",
    "Classification in Tensorflow requires a unique vector for each classification level.  This function converts a single binary classification vector into two binary classification vectors, one vector for positive classification (value = 1 in the original input vector) and one vector for negative classification (value = 0 in the original input vector \n",
    "\n",
    "**TODO: <br> **\n",
    "[  ] consider optimizing by converting for loop into vector operation.  But, it runs very fast even with a loop.  Maybe python is unrolling the loop?\n",
    "\n",
    "**Inputs:** <br>\n",
    "- **inputLabels ** (n x 1 numpy matrix) - Values are either 1 for positive classification and 0 for negative classification.  \n",
    "- **debug** (boolean) - whether or not to print debug statements for testing/validation\n",
    "\n",
    "**Outputs:** <br>\n",
    "- **twoClassLabels** (n x 2 numpy matrix).  First column values are 1 for positive classification, 0 otherwise.  Second column values are 1 for negative classification, 0 otherwise."
   ]
  },
  {
   "cell_type": "code",
   "execution_count": 3,
   "metadata": {
    "collapsed": true
   },
   "outputs": [],
   "source": [
    "def expandOneClassLables(inputLabels,debug):\n",
    "    twoClassLabels = np.zeros((len(inputLabels),2))\n",
    "    index = 0\n",
    "    for label in inputLabels:\n",
    "        if(int(label) == 0):\n",
    "            twoClassLabels[index][1] = 1\n",
    "        else:\n",
    "            twoClassLabels[index][0] = 1\n",
    "        index+=1\n",
    "    print(twoClassLabels[0:5])\n",
    "    print(inputLabels[0:5])\n",
    "    return(twoClassLabels)"
   ]
  },
  {
   "cell_type": "markdown",
   "metadata": {},
   "source": [
    "### transforming class labels for Tensorflow compatibility ###\n",
    "Tensorflow requires one vector for each potential class. This function transforms a binary vector of class labels into two numpy arrays, one for positive classification and one for negative classification.  Finally, arrays for all 7 outcomes are combined to create a single nx14 numpy matrix. \n",
    "\n",
    "**Inputs:** <br>\n",
    "- **inputLabels** (int arrays) - a list of int arrays, with one array (i.e. class labels) for each outcome of interest <br>\n",
    "- **debug** (boolean) - whether ot not to print debug statements\n",
    "\n",
    "**Outputs** <br>\n",
    "- **LabelMatrix** (numpy matrix) - n x14 numpy matrix of expanded outcomes, with outcomes listed in the same column order as inputs.\n",
    "\n",
    "\n",
    "![Alt text](https://raw.githubusercontent.com/larkinandy/GreenTweet_MultivariateBiLSTM/master/DataPreprocessing/images/methods_images.jpg)\n",
    ">> **Figure 1.** Diagram depicting the input and output of expandAllClassLabels function. "
   ]
  },
  {
   "cell_type": "code",
   "execution_count": 134,
   "metadata": {},
   "outputs": [],
   "source": [
    "def expandAllClassLabels(inputLabels,debug):\n",
    "    # TODO: complete function.  Use expandOneClassLabels as a subfunction\n",
    "    pass"
   ]
  },
  {
   "cell_type": "markdown",
   "metadata": {},
   "source": [
    "### create mapping dictionaries for all words in the twitter dataset ###\n",
    "The mapping dictionaries are imporrtant for converting words into vectors and vice versa in later functions. Note that dictionaries include punctuation and  \n",
    "\n",
    "**Inputs: ** <br>\n",
    "- **inputSents ** (list) - twitter sentences containing all candidate words to map to\n",
    "\n",
    "**Outputs: ** <br>\n",
    "- ** index2word_map ** (dict) - dictionary with index as the key and word as the value\n",
    "- ** word2index_map ** (dict) - dictionary with words as the key and index as the value\n",
    "\n",
    "** TODO: ** consider vectorizing, but it runs very fast even with nested loops (< 1s for 100,000 sentences)"
   ]
  },
  {
   "cell_type": "code",
   "execution_count": 43,
   "metadata": {
    "collapsed": true
   },
   "outputs": [],
   "source": [
    "def generateWordMap(inputSents):\n",
    "    word2index_map = {}\n",
    "    index = 0\n",
    "    for sent in inputSents:\n",
    "        reducedPunc = string.punctuation.replace(\"'\", \" \")\n",
    "        for word in sent:\n",
    "            if(len(word)>0 and word[0] == \"'\"):                \n",
    "                word = word[1:]\n",
    "            if(len(word)>0 and word[-1] == \"'\"):\n",
    "                word = word[:-1]\n",
    "            if(len(word)>0 and word not in word2index_map):\n",
    "                    word2index_map[word] = index\n",
    "                    index+=1\n",
    "    index2word_map = {word:index for word, index in word2index_map.items()}\n",
    "    return index2word_map, word2index_map"
   ]
  },
  {
   "cell_type": "code",
   "execution_count": 5,
   "metadata": {
    "collapsed": true
   },
   "outputs": [],
   "source": [
    "# load class scores and twitter data from csv files \n",
    "def loadCSV(inputCSVFile,debug=False,inDelim=',',inQuoteChar='\"'):\n",
    "    rawData = ps.read_csv(inputCSVFile,encoding='utf-8',delimiter = inDelim,quotechar = inQuoteChar)\n",
    "    if(debug):\n",
    "        print(rawData.head())\n",
    "    assert(rawData.isnull().any().any() == False)\n",
    "    rawData.tweet_id = rawData.tweet_id.astype(str)\n",
    "    return(rawData)"
   ]
  },
  {
   "cell_type": "code",
   "execution_count": 6,
   "metadata": {
    "collapsed": true
   },
   "outputs": [],
   "source": [
    "# extract csv filepaths from param dictionary \n",
    "def getTwitterCSVFilepaths(twitterDict):\n",
    "    CSVFilepath = twitterCSVParams['filepath']\n",
    "    classifyFilepath = twitterCSVParams['classifyFilepath']\n",
    "    return CSVFilepath, classifyFilepath"
   ]
  },
  {
   "cell_type": "code",
   "execution_count": 7,
   "metadata": {
    "collapsed": true
   },
   "outputs": [],
   "source": [
    "# load twitter data features \n",
    "# Get the names of features and class labels from the twitter params dictionary\n",
    "def getTwitterCSVParams(twitterDict):\n",
    "    CSVFilepath = twitterCSVParams['filepath']\n",
    "    classifyFilepath = twitterCSVParams['classifyFilepath']\n",
    "    textVar = twitterCSVParams['text']\n",
    "    hashtagVar = twitterCSVParams['hashtag_ind']\n",
    "    emoticonVar = twitterCSVParams['emoticon_ind']\n",
    "    natureInd = twitterCSVParams['nature_ind']\n",
    "    safetyInd = twitterCSVParams['safety_ind']\n",
    "    beautyInd = twitterCSVParams['beauty_ind']\n",
    "    exerciseInd = twitterCSVParams['exercise_ind']\n",
    "    socialInd = twitterCSVParams['social_ind']\n",
    "    stressInd = twitterCSVParams['stress_ind']\n",
    "    return (\n",
    "        [CSVFilepath,classifyFilepath, textVar, hashtagVar, emoticonVar],\n",
    "        [natureInd,safetyInd,beautyInd,exerciseInd,socialInd,stressInd]\n",
    "    )"
   ]
  },
  {
   "cell_type": "markdown",
   "metadata": {},
   "source": [
    "### load class labels and twitter data from csv files and merge ###\n",
    "\n",
    "**Inputs** <br>\n",
    "- **twitterCSVParams** (dict) - contains column names and filepaths.  See Setup section above for more details\n",
    "- **debug** (boolean) - whether to print debug statements in subfunctions\n",
    "\n",
    "**Outputs** <br>\n",
    "- **tweetWithScores ** (dict) - contains class labels and twitter data merged into single dictionary.  Dictionary params are documented in the setup section above\n",
    "\n",
    "**TODO** <br>\n",
    "[ ] - combine csv files and simplify the data loading process"
   ]
  },
  {
   "cell_type": "code",
   "execution_count": 37,
   "metadata": {
    "collapsed": true
   },
   "outputs": [],
   "source": [
    "def loadWordList(twitterCSVParams,debug=False):\n",
    "    TwitterFilepath, classifyFilepath = getTwitterCSVFilepaths(twitterCSVParams)\n",
    "    classScores = loadCSV(classifyFilepath,debug)\n",
    "    tweetData = loadCSV(TwitterFilepath,debug,inQuoteChar='|')\n",
    "    tweetWithScores = tweetData.merge(classScores,  how='inner', left_on='tweet_id', right_on = 'tweet_id')\n",
    "    return tweetWithScores"
   ]
  },
  {
   "cell_type": "markdown",
   "metadata": {},
   "source": [
    "### load the word vectors ###\n",
    "Read word vectors from file and load into memory.  Note that this file is large and compressed.  Recommend reading from an SSD drive and a computer with at least 16GB of memory (run on intel 900p storage with with 32GB RAM).\n",
    "\n",
    "**Inputs:** <br>\n",
    "- **vectorFilepath** (string) - entire filepath to zip file containing word vectors \n",
    "\n",
    "**Outputs:** <br>\n",
    "- **embeddingWeights** (dict) - dictionary, where words are the keys and vectors are the values "
   ]
  },
  {
   "cell_type": "code",
   "execution_count": 9,
   "metadata": {
    "collapsed": true
   },
   "outputs": [],
   "source": [
    "def loadWordVec(wordVecParams):\n",
    "    embedding_weights = {}\n",
    "    test = 0\n",
    "    with zipfile.ZipFile(wordVecParams['zipFilename']) as z:\n",
    "        with z.open(wordVecParams['txtFilename']) as f:\n",
    "            for line in f:\n",
    "                vals = line.split()\n",
    "                word = str(vals[0].decode(\"utf-8\"))\n",
    "                coefs = np.asarray(vals[1:], dtype = 'float32')\n",
    "                coefs/=np.linalg.norm(coefs)\n",
    "                embedding_weights[word] = coefs\n",
    "    return embedding_weights"
   ]
  },
  {
   "cell_type": "markdown",
   "metadata": {},
   "source": [
    "### find the longest word at the end of a string of characters.  Return -1 if no word exists###\n",
    "this function is for partitioning multiple words in tweets, compacted together without a space (e.g. lastchildinthewoods)\n",
    "\n",
    "**Inputs:** <br>\n",
    "- **wordSpace** (string) - string that potentially contains multiple words concatenated without spaces\n",
    "- **inDict** (dictionary) - the word search space, i.e. list of all words we consider to be 'valid'\n",
    "- **debug** (boolean) - whether to print debug statements\n",
    "\n",
    "**Outputs:** <br>\n",
    "- integer where string can be partitioned to subset words from wordSpace.  -1 if no such partition exists "
   ]
  },
  {
   "cell_type": "code",
   "execution_count": 22,
   "metadata": {
    "collapsed": true
   },
   "outputs": [],
   "source": [
    "def searchForFirstWord(wordSpace,inDict,debug=False):\n",
    "    lastWordLen = len(wordSpace)\n",
    "    while(lastWordLen > 0):\n",
    "        candidateWord = wordSpace[0:lastWordLen]\n",
    "        if(candidateWord in inDict):\n",
    "            endInd = lastWordLen\n",
    "            if(debug):\n",
    "                print(\n",
    "                    \"found long word in wordspace: \\n word: %s \\n index: %i\" \n",
    "                    % (candidateWord,endInd)\n",
    "                )\n",
    "            return endInd\n",
    "        lastWordLen -=1\n",
    "    return -1"
   ]
  },
  {
   "cell_type": "markdown",
   "metadata": {},
   "source": [
    "### for a single string of an unknown word, partition the string into smaller words ###\n",
    "This function also extends the hashtag and emoticon indicator vectors corresponding to the increase in word length\n",
    "\n",
    "**Inputs:** <br>\n",
    "- **inWord** (string) - word to partition\n",
    "- **inDict** (dict) - contains all acceptable or 'legal' words\n",
    "- **isHashtag** (int array) - binary vector indicating whether each word in a sentence is from  a hashtag. Update to reflect new words\n",
    "- **isEmot** (int array) - binary vector indicating whether each word in a sentence if from an emoticon.  Update to reflect new words\n",
    "- **debug** (boolean) - whether to print debug statements \n",
    "\n",
    "**Outputs:** <br>\n",
    "- **wordVec** (string array) - list of words, in sequential order of original sentence\n",
    "- **outHashtag** (int array) - binary hashtag vector, updated to reflect any added words\n",
    "- **outEmot** (int array) - binary emot vector, updated to reflect any added words"
   ]
  },
  {
   "cell_type": "code",
   "execution_count": 24,
   "metadata": {
    "collapsed": true
   },
   "outputs": [],
   "source": [
    "def checkOneCompactedWord(inWord,inDict,isHashtag,isEmot,debug=False):\n",
    "    wordVec, outHashtag, outEmot = ([] for i in range(3))\n",
    "    origWord = inWord\n",
    "    partitionIndex = searchForFirstWord(inWord,inDict,debug)\n",
    "    while(partitionIndex >0):\n",
    "        outHashtag.append(isHashtag)\n",
    "        outEmot.append(isEmot)\n",
    "        wordVec.append(inWord[0:partitionIndex])\n",
    "        inWord = inWord[partitionIndex:]\n",
    "        partitionIndex = searchForFirstWord(inWord,inDict,debug)\n",
    "    if(len(inWord)>0):\n",
    "        wordVec.append(inWord)\n",
    "        outHashtag.append(isHashtag)\n",
    "        outEmot.append(isEmot)\n",
    "    if(len(wordVec)==0):\n",
    "        wordVec = [origWord]\n",
    "        outHashtag = isHashtag\n",
    "    if(debug):\n",
    "        print(\n",
    "            \"%s was partitioned into %i words: %s \\n with hashtag: %s\"\n",
    "            % (origWord,len(wordVec),wordVec,outHashtag)\n",
    "             )\n",
    "    assert (len(wordVec) == len(outHashtag) and len(outHashtag) == len(outEmot))\n",
    "    return(wordVec,outHashtag,outEmot)"
   ]
  },
  {
   "cell_type": "markdown",
   "metadata": {},
   "source": [
    "### for a single sentence, split the sentence into individual words, and split compacted words that are missing a space ###\n",
    "\n",
    "this function also adjusts hashtag and emoji indicator vectors to accomadate expanded list of words\n",
    "\n",
    "**Inputs:** <br>\n",
    "- **inSent** (string) - entire sentence <br>\n",
    "- **inDict** (dict) - dictionary of allowed, or 'legal' words <br>\n",
    "- **inHashtag** (int array) - indicator of which words in the sentence, if any, belong to a hashtag <br>\n",
    "- **inEmot** (int array) - indicator of which words in the sentence, if any, belong to an emoji description <br>\n",
    "- **debug** (boolean) - whether debug statements should be printed <br>\n",
    "\n",
    "**Outputs:** <br>\n",
    "- **splitSent** (string array) - revised sentence in array format, with each word an element in the array <br>\n",
    "- **outHashtag** (int array) - revised hashtag indicator array <br>\n",
    "- **outEmot** (int array) - revised emot indicator array <br>"
   ]
  },
  {
   "cell_type": "code",
   "execution_count": 14,
   "metadata": {
    "collapsed": true
   },
   "outputs": [],
   "source": [
    "def screenForCompactedWordsInSentence(inSent,inDict,inHashtag,inEmot,debug=False):\n",
    "    splitSent, outHashtag, outEmot = ([] for i in range(3))\n",
    "    wordIndex = 0\n",
    "    for word in inSent.split(\" \"):\n",
    "        if(len(word)>0):\n",
    "            try:\n",
    "                currHashtag = inHashtag[wordIndex]\n",
    "                currEmot = inEmot[wordIndex]\n",
    "            except Exception as e:\n",
    "                if(debug):\n",
    "                    print(str(e))\n",
    "            if not word in inDict:\n",
    "                splitWords,hashtags,emotes = checkOneCompactedWord(word,inDict,currHashtag,currEmot,debug)\n",
    "                splitSent += splitWords\n",
    "                outHashtag += hashtags \n",
    "                outEmot += emotes\n",
    "            else:\n",
    "                splitSent.append(word)\n",
    "                outHashtag.append(currHashtag)\n",
    "                outEmot.append(currEmot)\n",
    "            if(word not in string.punctuation and word not in ['...']):\n",
    "                wordIndex +=1\n",
    "    if(debug):\n",
    "        print(\n",
    "            \"sentence after splitting: %s \\n hashtag: %s \\n emote: %s\"\n",
    "            % (splitSent,outHashtag,outEmot)\n",
    "        )\n",
    "    assert(len(splitSent) == len(outHashtag) & len(outHashtag) == len(outEmot))\n",
    "    return splitSent, outHashtag, outEmot"
   ]
  },
  {
   "cell_type": "markdown",
   "metadata": {},
   "source": [
    "### for all sentences in the dataset, split the sentences into individual words, and split compacted words that are missing a space ###\n",
    "\n",
    "**Inputs:** <br>\n",
    "- **TweetSentences** (string array) - sentences to process <br>\n",
    "- **inDict** (dict) - dictionary of allowable or 'legal' words <br>\n",
    "- **inHashtag** (list of integer arrays) - one integer array for each sentence, indicating which words belong to a hashtag <br>\n",
    "- **inEmot** (list of integer arrays) - one integer array for each sentence, indicating which words belong to an emoticon description <br>\n",
    "- **debug** (boolean) - whether to print debug statements <br>\n",
    "\n",
    "**Outputs:**<br>\n",
    "- **screenedSents** (list of string arrays) - revised version of Tweet sentences, with compacted words partitioned into multiple words.  Each sentence is now an arrays of strings instead of a single string <br>\n",
    "- **screenedHashtags** (list of integer arrays) - revised version of inHashtags, adjusted for word insertions <br>\n",
    "- **screenedEmots** (list of integer arrays) - revised version of inEmot, adjusted for word insertions <br>\n"
   ]
  },
  {
   "cell_type": "code",
   "execution_count": 15,
   "metadata": {
    "collapsed": true
   },
   "outputs": [],
   "source": [
    "def screenForCompactedWordsAllTweets(TweetSentences,inDict,inHashtag,inEmot,debug=False):\n",
    "    screenedSents, screenedHashtags, screenedEmots = ([] for i in range(3))\n",
    "    screenedHashtags = []\n",
    "    screenedEmots = []\n",
    "    for currIndex in range(10000):#(len(TweetSentences)):\n",
    "        splitSent, updatedHashtag, updatedEmot = screenForCompactedWordsInSentence(\n",
    "            TweetSentences[currIndex],\n",
    "            inDict,\n",
    "            inHashtag[currIndex],\n",
    "            inEmot[currIndex],\n",
    "            debug = False\n",
    "        )\n",
    "        screenedSents.append(splitSent)\n",
    "        screenedHashtags.append(updatedHashtag)\n",
    "        screenedEmots.append(updatedEmot)\n",
    "    if(debug):\n",
    "        print(\n",
    "            \"Example screening for compact words: \\n %s, %s, %s\"\n",
    "            % (screenedSents[0],screenedHashtags[0],screenedEmots[0])\n",
    "        )\n",
    "        print(\n",
    "            \"Number of tweets screened: %i\" %len(screenedSents)\n",
    "        )\n",
    "    assert(len(screenedSents) == len(screenedHashtags) & len(screenedHashtags) == len(screenedEmots))\n",
    "    return(screenedSents,screenedHashtags,screenedEmots)"
   ]
  },
  {
   "cell_type": "code",
   "execution_count": 98,
   "metadata": {
    "collapsed": true
   },
   "outputs": [],
   "source": [
    "# remove word encodings whose corresponding word isn't in the Twiter dataset\n",
    "def reduceWordEmbeddings(embeddedWeights,word2indexMap):\n",
    "    reducedEmbeddingWeights = {}\n",
    "    for key, value in embeddedWeights.items():\n",
    "        if key in word2indexMap:\n",
    "            reducedEmbeddingWeights[key] = embeddedWeights[key]\n",
    "    return reducedEmbeddingWeights"
   ]
  },
  {
   "cell_type": "code",
   "execution_count": 114,
   "metadata": {
    "collapsed": true
   },
   "outputs": [],
   "source": [
    "# replace a single word not found in the dictionary with an unknown token\n",
    "def tagSingleWord(word,unknownTag,word2index_map):\n",
    "    stripPunc = string.punctuation.replace(\"'\",\" \")\n",
    "    word = word.translate({ord(x): '' for x in stripPunc})\n",
    "    if(len(word)>0 and word[0] == \"'\"):\n",
    "        word = word[1:]\n",
    "    if(len(word)>0 and word[-1] == \"'\"):\n",
    "        word = word[:-1]\n",
    "    if(len(word)>0):\n",
    "        if word not in word2index_map:\n",
    "            word = unknownTag\n",
    "        return(word)\n",
    "    return(None)"
   ]
  },
  {
   "cell_type": "code",
   "execution_count": 135,
   "metadata": {
    "collapsed": true
   },
   "outputs": [],
   "source": [
    "# for all sentences, replace all words not found in the dictionary with an unknown token\n",
    "def substituteAllUnknownTags(inputSentences,unknownTag,word2index_map):\n",
    "    taggedSentences = []\n",
    "    for sent in inputSentences:\n",
    "        screenedSentence = \"\"  \n",
    "        for word in sent:\n",
    "            taggedWord = tagSingleWord(word,unknownTag,word2index_map)\n",
    "            if not taggedWord == None: screenedSentence += taggedWord + \" \"\n",
    "        screenedSentence = screenedSentence[:-1]\n",
    "        taggedSentences.append(screenedSentence)\n",
    "    return(taggedSentences)"
   ]
  },
  {
   "cell_type": "code",
   "execution_count": 107,
   "metadata": {
    "collapsed": true
   },
   "outputs": [],
   "source": [
    "# map word encoding to corresponding word, and create a lookup dictionary.\n",
    "def convertVectorsToMatrix(word2embedding_dict,vec_dim):\n",
    "    embedding_matrix = np.zeros((len(word2embedding_dict)+2,vec_dim))\n",
    "    wordToIndex = {}\n",
    "    index = 0\n",
    "    for word, vector in word2embedding_dict.items():\n",
    "        word_embedding = word2embedding_dict[word]\n",
    "        embedding_matrix[index,:] = word_embedding\n",
    "        wordToIndex[word] = index\n",
    "        index +=1\n",
    "    return(embedding_matrix,wordToIndex)"
   ]
  },
  {
   "cell_type": "code",
   "execution_count": 70,
   "metadata": {
    "collapsed": true
   },
   "outputs": [],
   "source": [
    "# identify unknown words and their corresponding frequency\n",
    "def countUnknownWords(embeddingWeights,screenedSents):\n",
    "    unknownWordDict = {}\n",
    "    for sent in screenedSents:\n",
    "        for word in sent:\n",
    "            if word not in embeddingWeights:\n",
    "                if word in unknownWordDict:\n",
    "                    unknownWordDict[word] = unknownWordDict[word] + 1\n",
    "                else:\n",
    "                    unknownWordDict[word] = 1\n",
    "    return(unknownWordDict)"
   ]
  },
  {
   "cell_type": "code",
   "execution_count": 109,
   "metadata": {
    "collapsed": true
   },
   "outputs": [],
   "source": [
    "# replace unknown words with list of known substitutions\n",
    "# for example, replace \"'ve\" with \"have\"\n",
    "def substituteUnknownWords(screenedSents,unknownWordDict):\n",
    "    for sentIndex in range(len(screenedSents)):\n",
    "        for wordIndex in range(len(screenedSents[sentIndex])):\n",
    "            if screenedSents[sentIndex][wordIndex] in unknownWordDict:\n",
    "                screenedSents[sentIndex][wordIndex] = unknownWordDict[screenedSents[sentIndex][wordIndex]]\n",
    "    return screenedSents"
   ]
  },
  {
   "cell_type": "markdown",
   "metadata": {},
   "source": [
    "### find the number of words in the longest tweet (by word count) in the database ###\n",
    "To do this we find the max length of the emoticon indicator vectors, since each vector contains one element for one word in a sentence\n",
    "\n",
    "**Inputs:** <br>\n",
    "- **inputEmoticons** (list of integer arrays) - one integer array for each sentence.  Len of array corresponds to number of words in the sentence <br>\n",
    "\n",
    "**Outputs:** <br>\n",
    "- **maxSentenceLength** (int) - number of words in the longest tweet (by word count)"
   ]
  },
  {
   "cell_type": "code",
   "execution_count": 121,
   "metadata": {
    "collapsed": true
   },
   "outputs": [],
   "source": [
    "def findMaxSentenceLength(inputEmoticons):\n",
    "    maxSentenceLength = 0\n",
    "    for emot in inputEmoticons:\n",
    "        maxSentenceLength = max(len(emot), maxSentenceLength)\n",
    "    return(maxSentenceLength)"
   ]
  },
  {
   "cell_type": "markdown",
   "metadata": {},
   "source": [
    "### pad shorter sentences with pad tokens to ensure all sentences have the same vector length ###\n",
    "this allows data to be stored in matrices, presenting the opportunity to vectorize deep learning and perform minibatch rather than stochastic gradient descent training \n",
    "\n",
    "**Inputs:**<br>\n",
    "- **inputSentences** (list of string arrays) - sentences that need to be padded <br>\n",
    "- **maxSentenceLength** (int) - number of words that each sentence must contain.  Add pad tokens to the end of shorter sentences to increase their length <br>\n",
    "- **padToken** (string) - specific word to add to sentences to indicate end of sentence has already been reached <br>\n",
    "\n",
    "**Outputs:**<br>\n",
    "- **paddedSents** (list of string arrays) - revised version of inputSentences, with padding added so all sentences have maxSentenceLength number of words <br>\n",
    "- **sentLengths** (integer array) - number of words in each sentence **before** adding padding <br>"
   ]
  },
  {
   "cell_type": "code",
   "execution_count": 137,
   "metadata": {
    "collapsed": true
   },
   "outputs": [],
   "source": [
    "def substituteAllUnknownTags(inputSentences,maxSentenceLength,padToken):\n",
    "    paddedSents = []\n",
    "    sentLengths = []\n",
    "    for sent in inputSentences:\n",
    "        sentLength = len(sent.split(\" \"))\n",
    "        sentLengths.append(sentLength)\n",
    "        while(sentLength < maxSentenceLength):\n",
    "            sent = sent + \" \" + padToken\n",
    "            sentLength +=1\n",
    "        paddedSents.append(sent)\n",
    "    return(paddedSents,sentLengths)"
   ]
  },
  {
   "cell_type": "markdown",
   "metadata": {},
   "source": [
    "### extend length of an indicator vector so that all indicator vectors are the same as the longest vector ###\n",
    "This is needed so that all indicator vectors can be combined into a matrix, letting tensorflow vectorize deep learning operations <br>\n",
    "\n",
    "**Inputs:** <br>\n",
    "- **inputVectors** (list of integer arrays) - indicator vectors that need to be padded\n",
    "- **maxSentenceLength** (int) - number of elements each vector must contain.  Add zeros to the end of shorter sentences to increase their length <br>\n",
    "\n",
    "**Outputs:** <br>\n",
    "- **paddedVectors** - revised version of inputVectors, with padding added so all vectors have maxSentence length number of elements <br>\n"
   ]
  },
  {
   "cell_type": "code",
   "execution_count": 138,
   "metadata": {
    "collapsed": true
   },
   "outputs": [],
   "source": [
    "def padIndicatorVector(inputVectors,maxSentenceLength):\n",
    "    paddedVectors = []\n",
    "    for vector in inputVectors:\n",
    "        vectorLength = len(vector)\n",
    "        numVector = np.asarray(list(map(int, vector)),dtype=np.int32).reshape((vectorLength))\n",
    "        if(maxSentenceLength-vectorLength >0):\n",
    "            padding = np.zeros((maxSentenceLength-vectorLength,1),dtype=np.int32)\n",
    "            numVector = np.append(numVector,padding)\n",
    "            numVector = numVector.reshape(maxSentenceLength)\n",
    "        paddedVectors.append(numVector)\n",
    "    return(paddedVectors)"
   ]
  },
  {
   "cell_type": "markdown",
   "metadata": {},
   "source": [
    "### add padding to all input features to the tensorflow model ###\n",
    "This ensures all vectors are the same length, greatly increasing tensorflow's ability to vectorize operations and reduce training time.\n",
    "\n",
    "**Inputs:** <br>\n",
    "- **inputSentences** (list of string arrays) - sentences that need to be padded <br>\n",
    "- **inputHashtagInd** (list of integer arrays) - hashtag vectors that need to be padded <br>\n",
    "- **inputEmoticonInd** (list of integer arrays) - emoticon vectors that need to be padded <br>\n",
    "- **padToken** (string) - token word to add at end of sentences to make their length the same <br>\n",
    "\n",
    "**Outputs:** <br>\n",
    "- **paddedSents** (list of string arrays) - revised version of inputSentences, with padding added so all sentences have maxSentenceLength number of words <br>\n",
    "- **sentLengths** (int array) - length of each sentence in inputSentences **before** adding padding <br>\n",
    "- **paddedHashtagInds** - revised version of inputHashtagInd, with padding added so all vectors have maxSentence length number of elements <br>\n",
    "- **paddedEmoticonInds** - revised version of inputEmoticonIn, with padding added so all vectors have maxSentenceLength number of elements <br>\n",
    "- **maxSentenceLength** - number of elements each vector contains after padding <br>"
   ]
  },
  {
   "cell_type": "code",
   "execution_count": 136,
   "metadata": {},
   "outputs": [],
   "source": [
    "def addPadding(inputSentences,inputHashtagInd,inputEmoticonInd,padToken):\n",
    "    maxSentenceLength = findMaxSentenceLength(inputHashtagInd,inputEmoticonInd)\n",
    "    paddedSents,sentLengths = padSentences(inputSentences,maxSentenceLength,padToken)\n",
    "    paddedHashtagInds = padIndicatorVector(inputHashtagInd,maxSentenceLength)\n",
    "    paddedEmoticonInds = padIndicatorVector(inputEmoticonInd,maxSentenceLength)\n",
    "    return(paddedSents,sentLengths, paddedHashtagInds,paddedEmoticonInds,maxSentenceLength)"
   ]
  },
  {
   "cell_type": "markdown",
   "metadata": {},
   "source": [
    "### main function ###"
   ]
  },
  {
   "cell_type": "code",
   "execution_count": 122,
   "metadata": {},
   "outputs": [],
   "source": [
    "embeddingWeights = loadWordVec(wordVecParams)\n",
    "tweetDict = loadWordList(twitterCSVParams)\n",
    "# print(tweetDict.head()) for debug/ validation purposes only\n",
    "screenedSents,screenedHashtags,screenedEmots = screenForCompactedWordsAllTweets(tweetDict['clean_text'],embeddingWeights,tweetDict['hash_ind'],tweetDict['emot_ind'],True)\n",
    "index2WordMap, word2IndexMap = generateWordMap(screenedSents)\n",
    "word2embedding_dict = reduceWordEmbeddings(embeddingWeights,index2WordMap)\n",
    "# countUnknownWords(word2embedding_dict,screenedSents) # for debug/ validation purposes only\n",
    "word2embedding_dict['UNK'] = np.random.randn(modelParams['word_vec_dim'])*0.001 # initialize to small but non-zero random weight vector\n",
    "word2embedding_dict['PAD_TOKEN'] = np.random.randn(modelParams['word_vec_dim'])*0.001 # initialize to small but non-zero random weight vector\n",
    "embedding_matrix,word2Index = convertVectorsToMatrix(word2embedding_dict,modelParams['word_vec_dim'])\n",
    "screenedSents = substituteAllUnknownTags(screenedSents,unknownWordSubs)\n",
    "taggedSentences = SubstituteUnknownTag(screenedSents,\"UNK\",word2Index)\n",
    "paddedSent, sentLengths,paddedHashtags,paddedEmoticons,maxSentenceLength = addPadding(taggedSentences, screenedHashtags, screenedEmots, \"PAD_TOKEN\")"
   ]
  }
 ],
 "metadata": {
  "kernelspec": {
   "display_name": "Python 3",
   "language": "python",
   "name": "python3"
  },
  "language_info": {
   "codemirror_mode": {
    "name": "ipython",
    "version": 3
   },
   "file_extension": ".py",
   "mimetype": "text/x-python",
   "name": "python",
   "nbconvert_exporter": "python",
   "pygments_lexer": "ipython3",
   "version": "3.6.3"
  }
 },
 "nbformat": 4,
 "nbformat_minor": 2
}
